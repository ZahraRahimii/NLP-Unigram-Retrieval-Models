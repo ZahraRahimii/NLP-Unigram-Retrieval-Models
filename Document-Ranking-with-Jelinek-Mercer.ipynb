{
 "cells": [
  {
   "cell_type": "code",
   "execution_count": 1,
   "metadata": {},
   "outputs": [
    {
     "name": "stderr",
     "output_type": "stream",
     "text": [
      "[nltk_data] Downloading package punkt to\n",
      "[nltk_data]     C:\\Users\\User\\AppData\\Roaming\\nltk_data...\n",
      "[nltk_data]   Package punkt is already up-to-date!\n"
     ]
    },
    {
     "data": {
      "text/plain": [
       "True"
      ]
     },
     "execution_count": 1,
     "metadata": {},
     "output_type": "execute_result"
    }
   ],
   "source": [
    "import nltk\n",
    "\n",
    "nltk.download('punkt')"
   ]
  },
  {
   "cell_type": "code",
   "execution_count": 11,
   "metadata": {},
   "outputs": [],
   "source": [
    "from nltk.tokenize import word_tokenize, RegexpTokenizer\n",
    "from collections import Counter\n",
    "import matplotlib.pyplot as plt\n",
    "import numpy as np\n",
    "import math"
   ]
  },
  {
   "cell_type": "code",
   "execution_count": 4,
   "metadata": {},
   "outputs": [],
   "source": [
    "tokenizer = RegexpTokenizer(r'\\w+')"
   ]
  },
  {
   "cell_type": "code",
   "execution_count": 7,
   "metadata": {},
   "outputs": [],
   "source": [
    "doc1 = 'Machine learning and data science are fields that utilize data to generate insights, build predictive models, and automate processes'\n",
    "doc1 = tokenizer.tokenize(doc1)\n",
    "doc2 = 'Data mining techniques are essential in data science and analytics for discovering patterns and relationships in large datasets'\n",
    "doc2 = tokenizer.tokenize(doc2)\n",
    "doc3 = 'Natural language processing is a subfield of artificial intelligence that focuses on understanding and generating human language.'\n",
    "doc3 = tokenizer.tokenize(doc3)\n",
    "doc4 = 'Information retrieval deals with the search and extraction of relevant information from large collections, often using machine learning techniques.'\n",
    "doc4 = tokenizer.tokenize(doc4)\n",
    "doc5 = 'Predictive analytics in data science often leverages machine learning and data mining to forecast future trends based on historical data'\n",
    "doc5 = tokenizer.tokenize(doc5)\n"
   ]
  },
  {
   "cell_type": "code",
   "execution_count": 8,
   "metadata": {},
   "outputs": [],
   "source": [
    "bg_doc = 'Artificial intelligence (AI) is transforming industries worldwide at an astonishing pace, automating complex tasks and driving groundbreaking innovations. Thanks to these advancements, AI has become a cornerstone in fields like healthcare, finance, and transportation. By leveraging its capacity to analyze vast amounts of data, AI systems can identify intricate patterns and deliver valuable insights in ways that traditional methods simply cannot match.Within the broader AI domain lies machine learning, a specialized subset that enables systems to learn from data, refining predictions, and improving decision-making processes. As AI technology advances, the significance of ethical considerations become increasingly important, with discussions on transparency, fairness, and accountability. Debates on transparency, fairness, and accountability highlight the importance of ensuring AI-driven outcomes benefit society at large. Moreover, there is an ongoing conversation regarding whether the knowledge gained by AI can—or cannot—be fully grasped by humans, given the  complexity and scale of certain computational tasks.'\n",
    "bg_doc += 'Meanwhile, machine learning and data science complement each other in their reliance on comprehensive datasets to generate insights, construct predictive models, and streamline various processes. Machine learning and data science are fields that utilize data to generate insights, build predictive models, and automate processes. Data mining techniques form a critical part of these workflows, helping data scientists discover patterns and relationships that might otherwise remain hidden. Across multiple scientific disciplines, these same data science methods are universally applicable, underscoring their versatility and value in both academic research and real-world industry settings. Data mining techniques are essential in data science and analytics for discovering patterns and relationships in large datasets.'\n",
    "bg_doc += 'One of the most prominent subfields of AI is natural language processing (NLP), which focuses on understanding and producing human language. From sentiment analysis in social media to automated customer service chatbots, NLP bridges the communication gap between humans and machines. In parallel, information retrieval concentrates on searching through and extracting relevant content from large collections—often powered by machine learning algorithms to boost accuracy and speed. Information retrieval deals with the search and extraction of relevant information from large collections, often using machine learning techniques. Natural language processing is a subfield of artificial intelligence that focuses on understanding and generating human language.Lastly, predictive analytics in data science taps into both machine learning and data mining to forecast emerging trends by drawing on historical data. This foresight helps organizations plan strategically, anticipate market changes, and optimize operations. Taken together, these technologies highlight the dynamic synergy between AI, machine learning, and data science. They illustrate not only the immense capabilities of computational systems but also reaffirm that data science techniques can be fruitfully applied to any field of science, driving progress and innovation across the globe. Predictive analytics in data science often leverages machine learning and data mining to forecast future trends based on historical data. What AI learns can or cannot be learned or used by human which is useful in any field of science'\n",
    "bg_corpus = tokenizer.tokenize(bg_doc)"
   ]
  },
  {
   "cell_type": "code",
   "execution_count": 12,
   "metadata": {},
   "outputs": [],
   "source": [
    "def calculate_probabilities(corpus):\n",
    "    word_counts = Counter(corpus)\n",
    "    total_words = sum(word_counts.values())\n",
    "    \n",
    "    background_prob = {word: count / total_words for word, count in word_counts.items()}\n",
    "    return background_prob"
   ]
  },
  {
   "cell_type": "code",
   "execution_count": 47,
   "metadata": {},
   "outputs": [],
   "source": [
    "background_prob = calculate_probabilities(bg_corpus)\n",
    "doc1_ml = calculate_probabilities(doc1)\n",
    "doc2_ml = calculate_probabilities(doc2)\n",
    "doc3_ml = calculate_probabilities(doc3)\n",
    "doc4_ml = calculate_probabilities(doc4)\n",
    "doc5_ml = calculate_probabilities(doc5)\n",
    "\n",
    "doc_mls = [doc1_ml, doc2_ml, doc3_ml, doc4_ml, doc5_ml]"
   ]
  },
  {
   "cell_type": "code",
   "execution_count": 51,
   "metadata": {},
   "outputs": [],
   "source": [
    "def jm_smoothing(query, doc_ml, background_prob, lambdaa=0.7):\n",
    "    doc_prob = 1\n",
    "    for word in query:\n",
    "        ml_prob = doc_ml.get(word, 0)\n",
    "        bg_prob = background_prob.get(word, 0)\n",
    "      \n",
    "        prob = (1-lambdaa) * ml_prob + lambdaa * bg_prob\n",
    "        doc_prob *= prob if prob > 0 else float('-inf')\n",
    "        \n",
    "    return doc_prob"
   ]
  },
  {
   "cell_type": "code",
   "execution_count": 49,
   "metadata": {},
   "outputs": [],
   "source": [
    "verbose_query = 'What are the techniques used in data science and machine learning'\n",
    "verbose_query = tokenizer.tokenize(verbose_query)\n",
    "keyword_query = 'data science techniques'\n",
    "keyword_query = tokenizer.tokenize(keyword_query)"
   ]
  },
  {
   "cell_type": "code",
   "execution_count": 74,
   "metadata": {},
   "outputs": [],
   "source": [
    "verbose_retrieved = []\n",
    "query_retrieved = []\n",
    "related = [1, 3, 4]\n",
    "verbose_precisions = []\n",
    "query_precisions = []\n",
    "lambda_range = np.arange(0, 1, 0.01)\n",
    "for x in lambda_range:\n",
    "    verbose_retrieved = []\n",
    "    query_retrieved = []\n",
    "    for id, doc_ml in enumerate(doc_mls):\n",
    "        prob = jm_smoothing(verbose_query, doc_ml, background_prob, lambdaa=x)\n",
    "        if prob >= 2e-22:\n",
    "            verbose_retrieved.append(id+1)\n",
    "        prob = jm_smoothing(keyword_query, doc_ml, background_prob, lambdaa=x)\n",
    "        if prob >= 2e-7:\n",
    "            query_retrieved.append(id+1)\n",
    "\n",
    "    verbose_precision = sum(1 for item in related if item in verbose_retrieved)/5\n",
    "    query_precision = sum(1 for item in related if item in query_retrieved)/5\n",
    "    verbose_precisions.append(verbose_precision)\n",
    "    query_precisions.append(query_precision)"
   ]
  },
  {
   "cell_type": "code",
   "execution_count": 75,
   "metadata": {},
   "outputs": [
    {
     "data": {
      "image/png": "[encoded data removed]",
      "text/plain": [
       "<Figure size 720x432 with 1 Axes>"
      ]
     },
     "metadata": {
      "needs_background": "light"
     },
     "output_type": "display_data"
    }
   ],
   "source": [
    "plt.figure(figsize=(10, 6))\n",
    "plt.plot(lambda_range, verbose_precisions, label=\"Verbose Precision\")    \n",
    "plt.plot(lambda_range, query_precisions, label=\"Keyword Precision\")    \n",
    "plt.title(\"Precision-Lambda\", fontsize=14)\n",
    "plt.xlabel(\"lambda\")\n",
    "plt.ylabel(\"precision\")\n",
    "plt.grid(True, which=\"both\", linewidth=0.5)\n",
    "plt.legend()\n",
    "plt.show()"
   ]
  }
 ],
 "metadata": {
  "kernelspec": {
   "display_name": "Python 3",
   "language": "python",
   "name": "python3"
  },
  "language_info": {
   "codemirror_mode": {
    "name": "ipython",
    "version": 3
   },
   "file_extension": ".py",
   "mimetype": "text/x-python",
   "name": "python",
   "nbconvert_exporter": "python",
   "pygments_lexer": "ipython3",
   "version": "3.9.4"
  }
 },
 "nbformat": 4,
 "nbformat_minor": 2
}
