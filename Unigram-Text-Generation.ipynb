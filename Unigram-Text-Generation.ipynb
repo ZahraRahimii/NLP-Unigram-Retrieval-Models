{
 "cells": [
  {
   "cell_type": "code",
   "execution_count": 55,
   "metadata": {},
   "outputs": [
    {
     "name": "stderr",
     "output_type": "stream",
     "text": [
      "[nltk_data] Downloading package punkt to\n",
      "[nltk_data]     C:\\Users\\User\\AppData\\Roaming\\nltk_data...\n",
      "[nltk_data]   Package punkt is already up-to-date!\n"
     ]
    },
    {
     "data": {
      "text/plain": [
       "True"
      ]
     },
     "execution_count": 55,
     "metadata": {},
     "output_type": "execute_result"
    }
   ],
   "source": [
    "import nltk\n",
    "\n",
    "nltk.download('punkt')"
   ]
  },
  {
   "cell_type": "code",
   "execution_count": 56,
   "metadata": {},
   "outputs": [],
   "source": [
    "from nltk.tokenize import word_tokenize, RegexpTokenizer\n",
    "from collections import Counter\n",
    "import matplotlib.pyplot as plt\n",
    "import numpy as np\n",
    "import math"
   ]
  },
  {
   "cell_type": "code",
   "execution_count": 57,
   "metadata": {},
   "outputs": [],
   "source": [
    "doc = 'Artificial intelligence (AI) is transforming industries worldwide. From automating complex tasks to driving innovation, AI has become a cornerstone in fields like healthcare, finance, and transportation. Machine learning, a subset of AI, enables systems to learn from data, making predictions and improving decisionmaking processes. As AI technology advances, ethical considerations become increasingly important, with discussions on transparency, fairness, and accountability.'"
   ]
  },
  {
   "cell_type": "code",
   "execution_count": 58,
   "metadata": {},
   "outputs": [
    {
     "data": {
      "text/plain": [
       "['Artificial',\n",
       " 'intelligence',\n",
       " 'AI',\n",
       " 'is',\n",
       " 'transforming',\n",
       " 'industries',\n",
       " 'worldwide',\n",
       " 'From',\n",
       " 'automating',\n",
       " 'complex',\n",
       " 'tasks',\n",
       " 'to',\n",
       " 'driving',\n",
       " 'innovation',\n",
       " 'AI',\n",
       " 'has',\n",
       " 'become',\n",
       " 'a',\n",
       " 'cornerstone',\n",
       " 'in',\n",
       " 'fields',\n",
       " 'like',\n",
       " 'healthcare',\n",
       " 'finance',\n",
       " 'and',\n",
       " 'transportation',\n",
       " 'Machine',\n",
       " 'learning',\n",
       " 'a',\n",
       " 'subset',\n",
       " 'of',\n",
       " 'AI',\n",
       " 'enables',\n",
       " 'systems',\n",
       " 'to',\n",
       " 'learn',\n",
       " 'from',\n",
       " 'data',\n",
       " 'making',\n",
       " 'predictions',\n",
       " 'and',\n",
       " 'improving',\n",
       " 'decisionmaking',\n",
       " 'processes',\n",
       " 'As',\n",
       " 'AI',\n",
       " 'technology',\n",
       " 'advances',\n",
       " 'ethical',\n",
       " 'considerations',\n",
       " 'become',\n",
       " 'increasingly',\n",
       " 'important',\n",
       " 'with',\n",
       " 'discussions',\n",
       " 'on',\n",
       " 'transparency',\n",
       " 'fairness',\n",
       " 'and',\n",
       " 'accountability']"
      ]
     },
     "execution_count": 58,
     "metadata": {},
     "output_type": "execute_result"
    }
   ],
   "source": [
    "tokenizer = RegexpTokenizer(r'\\w+')\n",
    "tokens = tokenizer.tokenize(doc)\n",
    "tokens"
   ]
  },
  {
   "cell_type": "code",
   "execution_count": 40,
   "metadata": {},
   "outputs": [],
   "source": [
    "doc1 = 'Artificial intelligence (AI) is transforming industries worldwide at an astonishing pace, automating complex tasks and driving groundbreaking innovations. Thanks to these advancements, AI has become a cornerstone in fields like healthcare, finance, and transportation. By leveraging its capacity to analyze vast amounts of data, AI systems can identify intricate patterns and deliver valuable insights in ways that traditional methods simply cannot match.Within the broader AI domain lies machine learning, a specialized subset that enables systems to learn from data, refining predictions, and improving decision-making processes. As AI technology advances, the significance of ethical considerations become increasingly important, with discussions on transparency, fairness, and accountability. Debates on transparency, fairness, and accountability highlight the importance of ensuring AI-driven outcomes benefit society at large. Moreover, there is an ongoing conversation regarding whether the knowledge gained by AI can—or cannot—be fully grasped by humans, given the  complexity and scale of certain computational tasks.'\n",
    "doc2 = 'Meanwhile, machine learning and data science complement each other in their reliance on comprehensive datasets to generate insights, construct predictive models, and streamline various processes. Machine learning and data science are fields that utilize data to generate insights, build predictive models, and automate processes. Data mining techniques form a critical part of these workflows, helping data scientists discover patterns and relationships that might otherwise remain hidden. Across multiple scientific disciplines, these same data science methods are universally applicable, underscoring their versatility and value in both academic research and real-world industry settings. Data mining techniques are essential in data science and analytics for discovering patterns and relationships in large datasets.'\n",
    "doc3 = 'One of the most prominent subfields of AI is natural language processing (NLP), which focuses on understanding and producing human language. From sentiment analysis in social media to automated customer service chatbots, NLP bridges the communication gap between humans and machines. In parallel, information retrieval concentrates on searching through and extracting relevant content from large collections—often powered by machine learning algorithms to boost accuracy and speed. Information retrieval deals with the search and extraction of relevant information from large collections, often using machine learning techniques. Natural language processing is a subfield of artificial intelligence that focuses on understanding and generating human language.Lastly, predictive analytics in data science taps into both machine learning and data mining to forecast emerging trends by drawing on historical data. This foresight helps organizations plan strategically, anticipate market changes, and optimize operations. Taken together, these technologies highlight the dynamic synergy between AI, machine learning, and data science. They illustrate not only the immense capabilities of computational systems but also reaffirm that data science techniques can be fruitfully applied to any field of science, driving progress and innovation across the globe. Predictive analytics in data science often leverages machine learning and data mining to forecast future trends based on historical data. What AI learns can or cannot be learned or used by human which is useful in any field of science'"
   ]
  },
  {
   "cell_type": "code",
   "execution_count": 68,
   "metadata": {},
   "outputs": [],
   "source": [
    "def build_unigram_lm(doc, background_prob, method, mu=2000, lambdaa=0.7, delta=0.75):\n",
    "    word_counts = Counter(doc)\n",
    "    total_count = sum(word_counts.values())\n",
    "    vocab_size = len(word_counts)\n",
    "    vocab = set(word_counts.keys()).union(set(background_prob.keys()))\n",
    "    \n",
    "    smoothed_prob = {}\n",
    "    for word in vocab:\n",
    "        count = word_counts.get(word, 0)\n",
    "        bg_prob = background_prob.get(word, 0)\n",
    "\n",
    "        if method == 'additive':\n",
    "            smoothed_prob[word] = (count + 1) / (total_count + vocab_size)\n",
    "        elif method == 'JM':\n",
    "            smoothed_prob[word] = (1-lambdaa) * (count) / (total_count) + (lambdaa) * bg_prob\n",
    "        elif method == 'absolute':\n",
    "            smoothed_prob[word] = max(count - delta, 0) + delta * vocab_size * bg_prob / (total_count)\n",
    "        elif method == 'DP':\n",
    "            smoothed_prob[word] = (count + mu * bg_prob) / (total_count + mu)\n",
    "    \n",
    "    return smoothed_prob"
   ]
  },
  {
   "cell_type": "code",
   "execution_count": 69,
   "metadata": {},
   "outputs": [],
   "source": [
    "def calculate_probabilities(corpus):\n",
    "    word_counts = Counter(corpus)\n",
    "    total_words = sum(word_counts.values())\n",
    "    \n",
    "    background_prob = {word: count / total_words for word, count in word_counts.items()}\n",
    "    return background_prob"
   ]
  },
  {
   "cell_type": "code",
   "execution_count": 70,
   "metadata": {},
   "outputs": [],
   "source": [
    "corpus_tokens = tokenizer.tokenize(doc1 + doc2 + doc3)\n",
    "doc_tokens = tokenizer.tokenize(doc)"
   ]
  },
  {
   "cell_type": "code",
   "execution_count": 72,
   "metadata": {},
   "outputs": [],
   "source": [
    "doc_ml = calculate_probabilities(doc_tokens)"
   ]
  },
  {
   "cell_type": "code",
   "execution_count": 73,
   "metadata": {},
   "outputs": [],
   "source": [
    "background_prob = calculate_probabilities(corpus_tokens)"
   ]
  },
  {
   "cell_type": "code",
   "execution_count": 75,
   "metadata": {},
   "outputs": [],
   "source": [
    "additive_smoothed_probs = build_unigram_lm(doc_tokens, background_prob, method='additive')\n",
    "jm_smoothed_probs = build_unigram_lm(doc_tokens, background_prob, method='JM')\n",
    "absolute_smoothed_probs = build_unigram_lm(doc_tokens, background_prob, method='absolute')\n",
    "dp_smoothed_probs = build_unigram_lm(doc_tokens, background_prob, method='DP')\n"
   ]
  },
  {
   "cell_type": "code",
   "execution_count": 22,
   "metadata": {},
   "outputs": [],
   "source": [
    "def plot_zipf(corpus):\n",
    "\n",
    "    word_counts = Counter(corpus)\n",
    "    \n",
    "    sorted_counts = sorted(word_counts.values(), reverse=True)\n",
    "    ranks = range(1, len(sorted_counts) + 1)\n",
    "    \n",
    "    plt.figure(figsize=(10, 6))\n",
    "    plt.plot(ranks, sorted_counts, marker=\"o\", linestyle=\"none\", label=\"Word Frequency\")    \n",
    "    plt.title(\"Zipf's Law\", fontsize=14)\n",
    "    plt.xlabel(\"Rank\")\n",
    "    plt.ylabel(\"Frequency\")\n",
    "    plt.grid(True, which=\"both\", linestyle=\"--\", linewidth=0.5)\n",
    "    plt.legend()\n",
    "    plt.show()"
   ]
  },
  {
   "cell_type": "code",
   "execution_count": 21,
   "metadata": {},
   "outputs": [
    {
     "data": {
      "image/png": "[encoded data removed]",
      "text/plain": [
       "<Figure size 720x432 with 1 Axes>"
      ]
     },
     "metadata": {
      "needs_background": "light"
     },
     "output_type": "display_data"
    }
   ],
   "source": [
    "plot_zipf(doc)"
   ]
  },
  {
   "cell_type": "code",
   "execution_count": 30,
   "metadata": {},
   "outputs": [],
   "source": [
    "def calculate_cross_entropy(p_probs, q_probs, doc):\n",
    "    cross_entropy = 0\n",
    "    total_words = len(doc)\n",
    "    for word in doc:\n",
    "        p_w = p_probs.get(word, 0) \n",
    "        q_w = q_probs.get(word, 1e-10) \n",
    "        if p_w > 0:\n",
    "            cross_entropy += p_w * math.log(q_w)\n",
    "\n",
    "    return -cross_entropy"
   ]
  },
  {
   "cell_type": "code",
   "execution_count": 84,
   "metadata": {},
   "outputs": [
    {
     "name": "stderr",
     "output_type": "stream",
     "text": [
      "No handles with labels found to put in legend.\n"
     ]
    },
    {
     "data": {
      "image/png": "[encoded data removed]",
      "text/plain": [
       "<Figure size 432x288 with 1 Axes>"
      ]
     },
     "metadata": {
      "needs_background": "light"
     },
     "output_type": "display_data"
    }
   ],
   "source": [
    "cross_entropy = []\n",
    "cross_entropy.append(calculate_cross_entropy(doc_ml, additive_smoothed_probs, doc_tokens))\n",
    "cross_entropy.append(calculate_cross_entropy(doc_ml, jm_smoothed_probs, doc_tokens))\n",
    "cross_entropy.append(calculate_cross_entropy(doc_ml, absolute_smoothed_probs, doc_tokens))\n",
    "cross_entropy.append(calculate_cross_entropy(doc_ml, dp_smoothed_probs, doc_tokens))\n",
    "methods = ['Additive Smoothing', 'Jelinek mercer', 'Absolute discounting', 'Dirichlet prior']\n",
    "\n",
    "plt.figure(figsize=(6, 4))\n",
    "plt.bar(methods, cross_entropy, color=\"skyblue\", edgecolor=\"black\")\n",
    "plt.title(\"Cross-Entropy with 4 Smoothing Methods\")\n",
    "plt.xticks(rotation=10, ha=\"right\", fontsize=10)\n",
    "plt.xlabel(\"Smoothing Method\")\n",
    "plt.ylabel(\"Cross-Entropy\")\n",
    "plt.legend()\n",
    "plt.show()"
   ]
  },
  {
   "cell_type": "markdown",
   "metadata": {},
   "source": [
    "\n",
    "\n",
    "#### The best smoothing method based on entropy is: Absolute discounting"
   ]
  },
  {
   "cell_type": "code",
   "execution_count": 122,
   "metadata": {},
   "outputs": [],
   "source": [
    "def generate_text_from_probs(word_probs, num_words):\n",
    "    words = list(word_probs.keys())\n",
    "    probs = np.array(list(word_probs.values()))\n",
    "    probs = probs / probs.sum()\n",
    "    \n",
    "    generated_words = np.random.choice(words, size=num_words, p=probs)\n",
    "    return generated_words"
   ]
  },
  {
   "cell_type": "code",
   "execution_count": 146,
   "metadata": {},
   "outputs": [
    {
     "data": {
      "text/plain": [
       "'with advances Machine innovation become AI industries'"
      ]
     },
     "execution_count": 146,
     "metadata": {},
     "output_type": "execute_result"
    }
   ],
   "source": [
    "generated_text = generate_text_from_probs(absolute_smoothed_probs, 7)\n",
    "' '.join(generated_text)"
   ]
  },
  {
   "cell_type": "code",
   "execution_count": 153,
   "metadata": {},
   "outputs": [
    {
     "data": {
      "text/plain": [
       "'complex and and automating AI subset with AI Artificial AI'"
      ]
     },
     "execution_count": 153,
     "metadata": {},
     "output_type": "execute_result"
    }
   ],
   "source": [
    "generated_text = generate_text_from_probs(absolute_smoothed_probs, 10)\n",
    "' '.join(generated_text)"
   ]
  },
  {
   "cell_type": "code",
   "execution_count": 154,
   "metadata": {},
   "outputs": [
    {
     "data": {
      "text/plain": [
       "'learn advances a ethical Artificial increasingly learning AI innovation automating accountability AI important AI and to enables advances to fairness'"
      ]
     },
     "execution_count": 154,
     "metadata": {},
     "output_type": "execute_result"
    }
   ],
   "source": [
    "generated_text = generate_text_from_probs(absolute_smoothed_probs, 20)\n",
    "' '.join(generated_text)"
   ]
  }
 ],
 "metadata": {
  "kernelspec": {
   "display_name": "Python 3",
   "language": "python",
   "name": "python3"
  },
  "language_info": {
   "codemirror_mode": {
    "name": "ipython",
    "version": 3
   },
   "file_extension": ".py",
   "mimetype": "text/x-python",
   "name": "python",
   "nbconvert_exporter": "python",
   "pygments_lexer": "ipython3",
   "version": "3.9.4"
  }
 },
 "nbformat": 4,
 "nbformat_minor": 2
}
